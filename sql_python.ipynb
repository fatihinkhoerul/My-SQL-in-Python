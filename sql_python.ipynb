{
 "cells": [
  {
   "cell_type": "markdown",
   "id": "3d0231de",
   "metadata": {},
   "source": [
    "# MySQL in Python"
   ]
  },
  {
   "cell_type": "markdown",
   "id": "8c4b827a",
   "metadata": {},
   "source": [
    "MySQL merupakan software yang digunakan untuk bahasa pemrograman SQL yang digunakan pasa relational database. MySQL juga bisa dihubungkan ke bahsa pemrograman lainnya yaitu Python"
   ]
  },
  {
   "cell_type": "markdown",
   "id": "035524e3",
   "metadata": {},
   "source": [
    "Untuk menghubungkannya terlebih dahulu perlu menginstall mysql connector pada cmd prompt, lalu menghubungkan melalui cara ini"
   ]
  },
  {
   "cell_type": "code",
   "execution_count": 1,
   "id": "925d98a9",
   "metadata": {},
   "outputs": [],
   "source": [
    "import mysql.connector\n",
    "\n",
    "mydb = mysql.connector.connect(\n",
    "    host = \"localhost\",\n",
    "    user = \"root\",\n",
    "    password = \"Mysql@10\"\n",
    ")"
   ]
  },
  {
   "cell_type": "markdown",
   "id": "b0382293",
   "metadata": {},
   "source": [
    "Untuk mengakses database dan menggunakan command dari SQL, digunakan method cursor() dan execute()"
   ]
  },
  {
   "cell_type": "markdown",
   "id": "02b4ae0e",
   "metadata": {},
   "source": [
    "## CREATE AND SHOW DATABASE"
   ]
  },
  {
   "cell_type": "markdown",
   "id": "fb9d0c13",
   "metadata": {},
   "source": [
    "Untuk membuat database baru menggunakan CREATE DATABASE"
   ]
  },
  {
   "cell_type": "markdown",
   "id": "bebfa93a",
   "metadata": {},
   "source": [
    "NOTES : nama database dalam sql tidak boleh ada yang sama"
   ]
  },
  {
   "cell_type": "code",
   "execution_count": 2,
   "id": "3ed993d5",
   "metadata": {},
   "outputs": [
    {
     "data": {
      "text/plain": [
       "[('dataku',),\n",
       " ('information_schema',),\n",
       " ('mysql',),\n",
       " ('performance_schema',),\n",
       " ('sys',)]"
      ]
     },
     "execution_count": 2,
     "metadata": {},
     "output_type": "execute_result"
    }
   ],
   "source": [
    "import mysql.connector\n",
    "\n",
    "mydb = mysql.connector.connect(\n",
    "    host = \"localhost\",\n",
    "    user = \"root\",\n",
    "    password = \"Mysql@10\"\n",
    ")\n",
    "\n",
    "mycursor = mydb.cursor()\n",
    "mycursor.execute(\"SHOW DATABASES\")\n",
    "mycursor.fetchall()"
   ]
  },
  {
   "cell_type": "code",
   "execution_count": 3,
   "id": "0681b2cc",
   "metadata": {},
   "outputs": [
    {
     "data": {
      "text/plain": [
       "[]"
      ]
     },
     "execution_count": 3,
     "metadata": {},
     "output_type": "execute_result"
    }
   ],
   "source": [
    "import mysql.connector\n",
    "\n",
    "mydb = mysql.connector.connect(\n",
    "    host = \"localhost\",\n",
    "    user = \"root\",\n",
    "    password = \"Mysql@10\"\n",
    ")\n",
    "\n",
    "mycursor = mydb.cursor()\n",
    "mycursor.execute(\"CREATE DATABASE trial_course\")\n",
    "mycursor.fetchall()"
   ]
  },
  {
   "cell_type": "code",
   "execution_count": 4,
   "id": "25f3a001",
   "metadata": {},
   "outputs": [
    {
     "data": {
      "text/plain": [
       "[('dataku',),\n",
       " ('information_schema',),\n",
       " ('mysql',),\n",
       " ('performance_schema',),\n",
       " ('sys',),\n",
       " ('trial_course',)]"
      ]
     },
     "execution_count": 4,
     "metadata": {},
     "output_type": "execute_result"
    }
   ],
   "source": [
    "import mysql.connector\n",
    "\n",
    "mydb = mysql.connector.connect(\n",
    "    host = \"localhost\",\n",
    "    user = \"root\",\n",
    "    password = \"Mysql@10\"\n",
    ")\n",
    "\n",
    "mycursor = mydb.cursor()\n",
    "mycursor.execute(\"SHOW DATABASES\")\n",
    "mycursor.fetchall()"
   ]
  },
  {
   "cell_type": "markdown",
   "id": "38b2a68e",
   "metadata": {},
   "source": [
    "untuk melihat apakah database tersebut telah dibuat digunakan command SHOW DATABASES, apabila ingin menampilkannya di dalam python dapat menggunkaan method fetchall() ataupun menggunakan loop pada Python."
   ]
  },
  {
   "cell_type": "code",
   "execution_count": 6,
   "id": "e65ed098",
   "metadata": {},
   "outputs": [
    {
     "name": "stdout",
     "output_type": "stream",
     "text": [
      "('dataku',)\n",
      "('information_schema',)\n",
      "('mysql',)\n",
      "('performance_schema',)\n",
      "('sys',)\n",
      "('trial_course',)\n"
     ]
    }
   ],
   "source": [
    "import mysql.connector\n",
    "\n",
    "mydb = mysql.connector.connect(\n",
    "    host = \"localhost\",\n",
    "    user = \"root\",\n",
    "    password = \"Mysql@10\"\n",
    ")\n",
    "\n",
    "mycursor = mydb.cursor()\n",
    "mycursor.execute(\"SHOW DATABASES\")\n",
    "for x in mycursor:\n",
    "    print(x)"
   ]
  },
  {
   "cell_type": "markdown",
   "id": "b7123c99",
   "metadata": {},
   "source": [
    "## CREATE AND SHOW TABLE"
   ]
  },
  {
   "cell_type": "markdown",
   "id": "b5679108",
   "metadata": {},
   "source": [
    "Untuk membuat table digunakan command CREATE TABLE, selanjutnya diikuti dengan nama table serta isi dari table"
   ]
  },
  {
   "cell_type": "code",
   "execution_count": 10,
   "id": "2f6d97ec",
   "metadata": {},
   "outputs": [],
   "source": [
    "import mysql.connector\n",
    "\n",
    "mydb = mysql.connector.connect(\n",
    "    host = \"localhost\",\n",
    "    user = \"root\",\n",
    "    password = \"Mysql@10\",\n",
    "    database = \"trial_course\"\n",
    ")\n",
    "\n",
    "mycursor = mydb.cursor()\n",
    "mycursor.execute(\"CREATE TABLE table_2(id INT, name VARCHAR(255), address VARCHAR(255))\")"
   ]
  },
  {
   "cell_type": "markdown",
   "id": "5f276d93",
   "metadata": {},
   "source": [
    "untuk melihat apakah database tersebut telah dibuat digunakan command SHOW TABLES, apabila ingin menampilkannya di dalam Python dapat menggunakan method fetchall ataupun menggunakan loop pada python"
   ]
  },
  {
   "cell_type": "code",
   "execution_count": 11,
   "id": "c0a59140",
   "metadata": {},
   "outputs": [
    {
     "name": "stdout",
     "output_type": "stream",
     "text": [
      "('table_1',)\n",
      "('table_2',)\n"
     ]
    }
   ],
   "source": [
    "import mysql.connector\n",
    "\n",
    "mydb = mysql.connector.connect(\n",
    "    host = \"localhost\",\n",
    "    user = \"root\",\n",
    "    password = \"Mysql@10\",\n",
    "    database = \"trial_course\"\n",
    ")\n",
    "\n",
    "mycursor = mydb.cursor()\n",
    "mycursor.execute(\"SHOW TABLES\")\n",
    "for i in mycursor:\n",
    "    print(i)"
   ]
  },
  {
   "cell_type": "markdown",
   "id": "3955a5e2",
   "metadata": {},
   "source": [
    "## INSERT"
   ]
  },
  {
   "cell_type": "markdown",
   "id": "1c8d14ac",
   "metadata": {},
   "source": [
    "untuk memasukkan data pada tabel, dapat digunakan command INSERT seperti contoh di bawah ini. Setelah itu, gunakan command commit() untuk melakukan perubahan pada table tersebut"
   ]
  },
  {
   "cell_type": "code",
   "execution_count": 13,
   "id": "dbe94ffa",
   "metadata": {},
   "outputs": [
    {
     "name": "stdout",
     "output_type": "stream",
     "text": [
      "1  record inserted\n"
     ]
    }
   ],
   "source": [
    "import mysql.connector\n",
    "\n",
    "mydb = mysql.connector.connect(\n",
    "    host = \"localhost\",\n",
    "    user = \"root\",\n",
    "    password = \"Mysql@10\",\n",
    "    database = \"trial_course\"\n",
    ")\n",
    "\n",
    "mycursor = mydb.cursor()\n",
    "insert = \"INSERT INTO table_1 VALUES (%s, %s, %s)\"\n",
    "values = (2, \"Locky\", \"London Street\")\n",
    "mycursor.execute(insert, values)\n",
    "mydb.commit()\n",
    "print(mycursor.rowcount, \" record inserted\")"
   ]
  },
  {
   "cell_type": "code",
   "execution_count": 17,
   "id": "a34615d4",
   "metadata": {},
   "outputs": [
    {
     "data": {
      "text/plain": [
       "[(1, 'John', 'Miami Street'),\n",
       " (2, 'Locky', 'London Street'),\n",
       " (3, 'Bram', 'Manchester'),\n",
       " (4, 'Smith', 'Poland'),\n",
       " (5, 'Angel', 'Wilhouse'),\n",
       " (6, 'Mitramen', 'Candys'),\n",
       " (7, 'Selly', 'Rockwol'),\n",
       " (8, 'Schol', 'Liberty'),\n",
       " (9, 'Nick', 'Miramar'),\n",
       " (10, 'Powl', 'Erangel')]"
      ]
     },
     "execution_count": 17,
     "metadata": {},
     "output_type": "execute_result"
    }
   ],
   "source": [
    "import mysql.connector\n",
    "\n",
    "mydb = mysql.connector.connect(\n",
    "    host = \"localhost\",\n",
    "    user = \"root\",\n",
    "    password = \"Mysql@10\",\n",
    "    database = \"trial_course\"\n",
    ")\n",
    "\n",
    "mycursor = mydb.cursor()\n",
    "mycursor.execute(\"SELECT * FROM table_1\")\n",
    "mycursor.fetchall()"
   ]
  },
  {
   "cell_type": "markdown",
   "id": "0467c80d",
   "metadata": {},
   "source": [
    "Apabila ingin memasukkan data lebih dari satu, menggunakan command executemany()"
   ]
  },
  {
   "cell_type": "code",
   "execution_count": 16,
   "id": "52df0b09",
   "metadata": {},
   "outputs": [
    {
     "name": "stdout",
     "output_type": "stream",
     "text": [
      "8  record inserted\n"
     ]
    }
   ],
   "source": [
    "import mysql.connector\n",
    "\n",
    "mydb = mysql.connector.connect(\n",
    "    host = \"localhost\",\n",
    "    user = \"root\",\n",
    "    password = \"Mysql@10\",\n",
    "    database = \"trial_course\"\n",
    ")\n",
    "\n",
    "mycursor = mydb.cursor()\n",
    "insert = \"INSERT INTO table_1 VALUES (%s, %s, %s)\"\n",
    "values = [(3, \"Bram\", \"Manchester\"),\n",
    "         (4, \"Smith\", \"Poland\"),\n",
    "         (5, \"Angel\", \"Wilhouse\"),\n",
    "         (6, \"Mitramen\", \"Candys\"),\n",
    "          (7, \"Selly\", \"Rockwol\"),\n",
    "          (8, \"Schol\", \"Liberty\"),\n",
    "          (9, \"Nick\", \"Miramar\"),\n",
    "          (10, \"Powl\", \"Erangel\")\n",
    "         ]\n",
    "mycursor.executemany(insert, values)\n",
    "mydb.commit()\n",
    "print(mycursor.rowcount, \" record inserted\")"
   ]
  },
  {
   "cell_type": "markdown",
   "id": "de3f01f1",
   "metadata": {},
   "source": [
    "## SELECT"
   ]
  },
  {
   "cell_type": "markdown",
   "id": "ba011668",
   "metadata": {},
   "source": [
    "untuk menampilkan isi dari sebuah tabel dapat digunakan command SELECT dan memilih kolom nya atau keseluruhan data menggunakan parameter *"
   ]
  },
  {
   "cell_type": "code",
   "execution_count": 19,
   "id": "cdac91a7",
   "metadata": {},
   "outputs": [
    {
     "data": {
      "text/plain": [
       "[('John',),\n",
       " ('Locky',),\n",
       " ('Bram',),\n",
       " ('Smith',),\n",
       " ('Angel',),\n",
       " ('Mitramen',),\n",
       " ('Selly',),\n",
       " ('Schol',),\n",
       " ('Nick',),\n",
       " ('Powl',)]"
      ]
     },
     "execution_count": 19,
     "metadata": {},
     "output_type": "execute_result"
    }
   ],
   "source": [
    "import mysql.connector\n",
    "\n",
    "mydb = mysql.connector.connect(\n",
    "    host = \"localhost\",\n",
    "    user = \"root\",\n",
    "    password = \"Mysql@10\",\n",
    "    database = \"trial_course\"\n",
    ")\n",
    "\n",
    "mycursor = mydb.cursor()\n",
    "mycursor.execute(\"SELECT name FROM table_1\")\n",
    "mycursor.fetchall()"
   ]
  },
  {
   "cell_type": "markdown",
   "id": "16e14756",
   "metadata": {},
   "source": [
    "## WHERE"
   ]
  },
  {
   "cell_type": "markdown",
   "id": "454f1ce3",
   "metadata": {},
   "source": [
    "apabila ingin melakukan action terhadap spesifik tabel, dapat digunakan command WHERE untuk melakukan filter"
   ]
  },
  {
   "cell_type": "code",
   "execution_count": 22,
   "id": "1f887be2",
   "metadata": {},
   "outputs": [
    {
     "data": {
      "text/plain": [
       "[(3, 'Bram', 'Manchester'),\n",
       " (4, 'Smith', 'Poland'),\n",
       " (5, 'Angel', 'Wilhouse'),\n",
       " (6, 'Mitramen', 'Candys'),\n",
       " (7, 'Selly', 'Rockwol')]"
      ]
     },
     "execution_count": 22,
     "metadata": {},
     "output_type": "execute_result"
    }
   ],
   "source": [
    "import mysql.connector\n",
    "\n",
    "mydb = mysql.connector.connect(\n",
    "    host = \"localhost\",\n",
    "    user = \"root\",\n",
    "    password = \"Mysql@10\",\n",
    "    database = \"trial_course\"\n",
    ")\n",
    "\n",
    "mycursor = mydb.cursor()\n",
    "mycursor.execute(\"SELECT * FROM table_1 WHERE id BETWEEN 3 AND 7\")\n",
    "mycursor.fetchall()"
   ]
  },
  {
   "cell_type": "markdown",
   "id": "6302f1b7",
   "metadata": {},
   "source": [
    "## AND, OR, LIKE, BETWEEN"
   ]
  },
  {
   "cell_type": "markdown",
   "id": "dc4b8257",
   "metadata": {},
   "source": [
    "dalam WHERE, terdapat beberapa constraint yang bisa digunakan seperti and, or serta like\n",
    "\n",
    "AND digunakan untuk memeberikan kondisi apabila keduanya benar,\n",
    "OR digunakan untuk memberikan kondisi apabila salah satu benar,\n",
    "LIKE digunakan untuk memberikan kondisi pada string yang cocok,\n",
    "BETWEEN digunakan untuk memberikan kondisi apabilasebuah nilai berada diantaranya"
   ]
  },
  {
   "cell_type": "markdown",
   "id": "7cd812ed",
   "metadata": {},
   "source": [
    "Pada LIKE terdapat beberapa operator yang dapat digunakan seperti\n",
    "\n",
    "- \"a%\" --> mencari nilai yang diawali huruf a\n",
    "- \"%a\" --> mencari nilai yang diakhiri huruf a\n",
    "- \"%a%\" --> mencari nilai yang ada unsur a diposisi apapun\n",
    "- \"_a%\" --> mencari nilai yang huruf keduanya adalah a\n",
    "- \"a_%\" --> mencari nilai yang hururf awalnya a dan panjang minimalnya 2 karakter\n",
    "- \"a__%\" --> mencari nilai yang huruf awalnya a dan panjang minimalnya 3 karakter\n",
    "- \"a%o\" --> mencari nilai yang diawali huruf a dan diakhiri huruf o\n",
    "\n",
    "Untuk huruf sendirir dapat disesuaikan dengan kondisi"
   ]
  },
  {
   "cell_type": "code",
   "execution_count": 26,
   "id": "999dc67d",
   "metadata": {},
   "outputs": [
    {
     "data": {
      "text/plain": [
       "[(3, 'Bram', 'Manchester'), (4, 'Smith', 'Poland'), (6, 'Mitramen', 'Candys')]"
      ]
     },
     "execution_count": 26,
     "metadata": {},
     "output_type": "execute_result"
    }
   ],
   "source": [
    "import mysql.connector\n",
    "\n",
    "mydb = mysql.connector.connect(\n",
    "    host = \"localhost\",\n",
    "    user = \"root\",\n",
    "    password = \"Mysql@10\",\n",
    "    database = \"trial_course\"\n",
    ")\n",
    "\n",
    "mycursor = mydb.cursor()\n",
    "mycursor.execute(\"SELECT * FROM table_1 WHERE name LIKE ('%m%')\")\n",
    "mycursor.fetchall()"
   ]
  },
  {
   "cell_type": "markdown",
   "id": "a1b0f9f1",
   "metadata": {},
   "source": [
    "## ORDER BY"
   ]
  },
  {
   "cell_type": "markdown",
   "id": "c461f76b",
   "metadata": {},
   "source": [
    "untuk mengurutkan baris terhadap sebuah kolom digunakan ORDER BY baik descending atau ascending"
   ]
  },
  {
   "cell_type": "code",
   "execution_count": 28,
   "id": "d4dd5619",
   "metadata": {},
   "outputs": [
    {
     "data": {
      "text/plain": [
       "[(4, 'Smith', 'Poland'),\n",
       " (7, 'Selly', 'Rockwol'),\n",
       " (8, 'Schol', 'Liberty'),\n",
       " (10, 'Powl', 'Erangel'),\n",
       " (9, 'Nick', 'Miramar'),\n",
       " (6, 'Mitramen', 'Candys'),\n",
       " (2, 'Locky', 'London Street'),\n",
       " (1, 'John', 'Miami Street'),\n",
       " (3, 'Bram', 'Manchester'),\n",
       " (5, 'Angel', 'Wilhouse')]"
      ]
     },
     "execution_count": 28,
     "metadata": {},
     "output_type": "execute_result"
    }
   ],
   "source": [
    "import mysql.connector\n",
    "\n",
    "mydb = mysql.connector.connect(\n",
    "    host = \"localhost\",\n",
    "    user = \"root\",\n",
    "    password = \"Mysql@10\",\n",
    "    database = \"trial_course\"\n",
    ")\n",
    "\n",
    "mycursor = mydb.cursor()\n",
    "mycursor.execute(\"SELECT * FROM table_1 ORDER BY name desc\")\n",
    "mycursor.fetchall()"
   ]
  },
  {
   "cell_type": "markdown",
   "id": "fd28fede",
   "metadata": {},
   "source": [
    "## GROUP BY and HAVING"
   ]
  },
  {
   "cell_type": "markdown",
   "id": "37300043",
   "metadata": {},
   "source": [
    "untuk melakukan aggregasi pada mysql dapat dilakukan menggunakan GROUP BY. Agrregasi dilakukan apabila terdapat kalkulasi pada sebuah bilai, terdapat beberapa function aggregasi yaitu:\n",
    "\n",
    "1. MIN -> Nlai Terkecil\n",
    "2. MAX -> Nilai Terbesar\n",
    "3. SUM -> Total dari keseluruhan kolom\n",
    "4. COUNT -> Menghitung banyaknya nilai pada kolom\n",
    "5. AVG -> Menghitung rata rata pada nilai\n",
    "\n",
    "Terdapat method lain yaitu HAVING yang digunkaakn untuk memberikan konsisi terhadap data dari hasil aggregasi"
   ]
  },
  {
   "cell_type": "code",
   "execution_count": 39,
   "id": "b932294f",
   "metadata": {},
   "outputs": [
    {
     "data": {
      "text/plain": [
       "[(1, 'John'),\n",
       " (1, 'Locky'),\n",
       " (1, 'Bram'),\n",
       " (1, 'Smith'),\n",
       " (1, 'Angel'),\n",
       " (1, 'Mitramen'),\n",
       " (1, 'Selly'),\n",
       " (1, 'Schol'),\n",
       " (1, 'Nick'),\n",
       " (1, 'Powl')]"
      ]
     },
     "execution_count": 39,
     "metadata": {},
     "output_type": "execute_result"
    }
   ],
   "source": [
    "import mysql.connector\n",
    "\n",
    "mydb = mysql.connector.connect(\n",
    "    host = \"localhost\",\n",
    "    user = \"root\",\n",
    "    password = \"Mysql@10\",\n",
    "    database = \"trial_course\"\n",
    ")\n",
    "\n",
    "mycursor = mydb.cursor()\n",
    "mycursor.execute(\"SELECT count(id), name FROM table_1 GROUP BY name \")\n",
    "mycursor.fetchall()"
   ]
  },
  {
   "cell_type": "markdown",
   "id": "f7ed7a20",
   "metadata": {},
   "source": [
    "## DELETE"
   ]
  },
  {
   "cell_type": "markdown",
   "id": "73d25173",
   "metadata": {},
   "source": [
    "untuk menghapus baris pada sebuah tabel, digunakan command DELETE. Namun, ingin tambahkan filter menggunakan where untuk mencegah data terhapus semua"
   ]
  },
  {
   "cell_type": "code",
   "execution_count": 40,
   "id": "7ba6f9fe",
   "metadata": {},
   "outputs": [],
   "source": [
    "import mysql.connector\n",
    "\n",
    "mydb = mysql.connector.connect(\n",
    "    host = \"localhost\",\n",
    "    user = \"root\",\n",
    "    password = \"Mysql@10\",\n",
    "    database = \"trial_course\"\n",
    ")\n",
    "\n",
    "mycursor = mydb.cursor()\n",
    "mycursor.execute(\"DELETE FROM table_1 WHERE id = 7\")\n",
    "mydb.commit()"
   ]
  },
  {
   "cell_type": "code",
   "execution_count": 41,
   "id": "d6ef15f0",
   "metadata": {},
   "outputs": [
    {
     "data": {
      "text/plain": [
       "[(1, 'John', 'Miami Street'),\n",
       " (2, 'Locky', 'London Street'),\n",
       " (3, 'Bram', 'Manchester'),\n",
       " (4, 'Smith', 'Poland'),\n",
       " (5, 'Angel', 'Wilhouse'),\n",
       " (6, 'Mitramen', 'Candys'),\n",
       " (8, 'Schol', 'Liberty'),\n",
       " (9, 'Nick', 'Miramar'),\n",
       " (10, 'Powl', 'Erangel')]"
      ]
     },
     "execution_count": 41,
     "metadata": {},
     "output_type": "execute_result"
    }
   ],
   "source": [
    "import mysql.connector\n",
    "\n",
    "mydb = mysql.connector.connect(\n",
    "    host = \"localhost\",\n",
    "    user = \"root\",\n",
    "    password = \"Mysql@10\",\n",
    "    database = \"trial_course\"\n",
    ")\n",
    "\n",
    "mycursor = mydb.cursor()\n",
    "mycursor.execute(\"SELECT * FROM table_1 \")\n",
    "mycursor.fetchall()"
   ]
  },
  {
   "cell_type": "markdown",
   "id": "6fc39914",
   "metadata": {},
   "source": [
    "## UPDATE"
   ]
  },
  {
   "cell_type": "markdown",
   "id": "46937c3c",
   "metadata": {},
   "source": [
    "untuk mengubah data yangtelah dimasukan kedalam tabel, dapat digunakan command UPDATE"
   ]
  },
  {
   "cell_type": "code",
   "execution_count": 43,
   "id": "36437f32",
   "metadata": {},
   "outputs": [],
   "source": [
    "import mysql.connector\n",
    "\n",
    "mydb = mysql.connector.connect(\n",
    "    host = \"localhost\",\n",
    "    user = \"root\",\n",
    "    password = \"Mysql@10\",\n",
    "    database = \"trial_course\"\n",
    ")\n",
    "\n",
    "mycursor = mydb.cursor()\n",
    "mycursor.execute(\"UPDATE table_1 SET name = 'Kelvin' WHERE id = 1\")\n",
    "mydb.commit()"
   ]
  },
  {
   "cell_type": "code",
   "execution_count": 44,
   "id": "f5f2eb0a",
   "metadata": {},
   "outputs": [
    {
     "data": {
      "text/plain": [
       "[(1, 'Kelvin', 'Miami Street'),\n",
       " (2, 'Locky', 'London Street'),\n",
       " (3, 'Bram', 'Manchester'),\n",
       " (4, 'Smith', 'Poland'),\n",
       " (5, 'Angel', 'Wilhouse'),\n",
       " (6, 'Mitramen', 'Candys'),\n",
       " (8, 'Schol', 'Liberty'),\n",
       " (9, 'Nick', 'Miramar'),\n",
       " (10, 'Powl', 'Erangel')]"
      ]
     },
     "execution_count": 44,
     "metadata": {},
     "output_type": "execute_result"
    }
   ],
   "source": [
    "import mysql.connector\n",
    "\n",
    "mydb = mysql.connector.connect(\n",
    "    host = \"localhost\",\n",
    "    user = \"root\",\n",
    "    password = \"Mysql@10\",\n",
    "    database = \"trial_course\"\n",
    ")\n",
    "\n",
    "mycursor = mydb.cursor()\n",
    "mycursor.execute(\"SELECT * FROM table_1\")\n",
    "mycursor.fetchall()"
   ]
  },
  {
   "cell_type": "markdown",
   "id": "5e5851a1",
   "metadata": {},
   "source": [
    "## LIMIT"
   ]
  },
  {
   "cell_type": "markdown",
   "id": "703a93ca",
   "metadata": {},
   "source": [
    "untuk membatasi data yang akan ditampilkan, dapat digunakan command LIMIT"
   ]
  },
  {
   "cell_type": "code",
   "execution_count": 45,
   "id": "3da80301",
   "metadata": {},
   "outputs": [
    {
     "data": {
      "text/plain": [
       "[(1, 'Kelvin', 'Miami Street'),\n",
       " (2, 'Locky', 'London Street'),\n",
       " (3, 'Bram', 'Manchester'),\n",
       " (4, 'Smith', 'Poland')]"
      ]
     },
     "execution_count": 45,
     "metadata": {},
     "output_type": "execute_result"
    }
   ],
   "source": [
    "import mysql.connector\n",
    "\n",
    "mydb = mysql.connector.connect(\n",
    "    host = \"localhost\",\n",
    "    user = \"root\",\n",
    "    password = \"Mysql@10\",\n",
    "    database = \"trial_course\"\n",
    ")\n",
    "\n",
    "mycursor = mydb.cursor()\n",
    "mycursor.execute(\"SELECT * FROM table_1 LIMIT 4\")\n",
    "mycursor.fetchall()"
   ]
  },
  {
   "cell_type": "markdown",
   "id": "36581acf",
   "metadata": {},
   "source": [
    "## DROP TABLE & DATABASE"
   ]
  },
  {
   "cell_type": "markdown",
   "id": "85b5f498",
   "metadata": {},
   "source": [
    "untuk menghapus tabel ataupun database, digunakan method DROP TABLE & DROP DATABASE"
   ]
  },
  {
   "cell_type": "code",
   "execution_count": 46,
   "id": "9e4250dc",
   "metadata": {},
   "outputs": [
    {
     "data": {
      "text/plain": [
       "[]"
      ]
     },
     "execution_count": 46,
     "metadata": {},
     "output_type": "execute_result"
    }
   ],
   "source": [
    "import mysql.connector\n",
    "\n",
    "mydb = mysql.connector.connect(\n",
    "    host = \"localhost\",\n",
    "    user = \"root\",\n",
    "    password = \"Mysql@10\",\n",
    "    database = \"trial_course\"\n",
    ")\n",
    "\n",
    "mycursor = mydb.cursor()\n",
    "mycursor.execute(\"DROP TABLE table_2\")\n",
    "mycursor.fetchall()"
   ]
  },
  {
   "cell_type": "code",
   "execution_count": 47,
   "id": "e33b581b",
   "metadata": {},
   "outputs": [
    {
     "data": {
      "text/plain": [
       "[('table_1',)]"
      ]
     },
     "execution_count": 47,
     "metadata": {},
     "output_type": "execute_result"
    }
   ],
   "source": [
    "import mysql.connector\n",
    "\n",
    "mydb = mysql.connector.connect(\n",
    "    host = \"localhost\",\n",
    "    user = \"root\",\n",
    "    password = \"Mysql@10\",\n",
    "    database = \"trial_course\"\n",
    ")\n",
    "\n",
    "mycursor = mydb.cursor()\n",
    "mycursor.execute(\"SHOW TABLES\")\n",
    "mycursor.fetchall()"
   ]
  },
  {
   "cell_type": "markdown",
   "id": "0aa920af",
   "metadata": {},
   "source": [
    "## Sub Query"
   ]
  },
  {
   "cell_type": "markdown",
   "id": "1f149ffd",
   "metadata": {},
   "source": [
    "Sub query digunakan apabila ingin memberikan filterisasi atau menampilkan data yang berhubungan dengan aggregate function"
   ]
  },
  {
   "cell_type": "code",
   "execution_count": 50,
   "id": "af79a44c",
   "metadata": {},
   "outputs": [
    {
     "data": {
      "text/plain": [
       "[(1, 9), (2, 9), (3, 9), (4, 9), (5, 9), (6, 9), (8, 9), (9, 9), (10, 9)]"
      ]
     },
     "execution_count": 50,
     "metadata": {},
     "output_type": "execute_result"
    }
   ],
   "source": [
    "import mysql.connector\n",
    "\n",
    "mydb = mysql.connector.connect(\n",
    "    host = \"localhost\",\n",
    "    user = \"root\",\n",
    "    password = \"Mysql@10\",\n",
    "    database = \"trial_course\"\n",
    ")\n",
    "\n",
    "mycursor = mydb.cursor()\n",
    "mycursor.execute(\"SELECT id, (SELECT COUNT(name) FROM table_1) as total FROM table_1\")\n",
    "mycursor.fetchall()"
   ]
  },
  {
   "cell_type": "markdown",
   "id": "6f555a3a",
   "metadata": {},
   "source": [
    "## JOIN"
   ]
  },
  {
   "cell_type": "markdown",
   "id": "51e962a6",
   "metadata": {},
   "source": [
    "apabila ingin menggabungkan dua tabel dengan catatan kedua tabel tersebut terdapat kolom yang sama, dapat digunakan command JOIN"
   ]
  },
  {
   "cell_type": "code",
   "execution_count": 53,
   "id": "25897298",
   "metadata": {},
   "outputs": [
    {
     "data": {
      "text/plain": [
       "[]"
      ]
     },
     "execution_count": 53,
     "metadata": {},
     "output_type": "execute_result"
    }
   ],
   "source": [
    "import mysql.connector\n",
    "\n",
    "mydb = mysql.connector.connect(\n",
    "    host = \"localhost\",\n",
    "    user = \"root\",\n",
    "    password = \"Mysql@10\",\n",
    "    database = \"trial_course\"\n",
    ")\n",
    "\n",
    "mycursor = mydb.cursor()\n",
    "mycursor.execute(\"CREATE TABLE table_2(id INT, email VARCHAR(255), kode VARCHAR (100))\")\n",
    "mycursor.fetchall()"
   ]
  },
  {
   "cell_type": "code",
   "execution_count": 54,
   "id": "b92bcdfe",
   "metadata": {},
   "outputs": [
    {
     "data": {
      "text/plain": [
       "[('table_1',), ('table_2',)]"
      ]
     },
     "execution_count": 54,
     "metadata": {},
     "output_type": "execute_result"
    }
   ],
   "source": [
    "import mysql.connector\n",
    "\n",
    "mydb = mysql.connector.connect(\n",
    "    host = \"localhost\",\n",
    "    user = \"root\",\n",
    "    password = \"Mysql@10\",\n",
    "    database = \"trial_course\"\n",
    ")\n",
    "\n",
    "mycursor = mydb.cursor()\n",
    "mycursor.execute(\"SHOW TABLES\")\n",
    "mycursor.fetchall()"
   ]
  },
  {
   "cell_type": "code",
   "execution_count": 55,
   "id": "c7de4a63",
   "metadata": {},
   "outputs": [
    {
     "data": {
      "text/plain": [
       "[]"
      ]
     },
     "execution_count": 55,
     "metadata": {},
     "output_type": "execute_result"
    }
   ],
   "source": [
    "import mysql.connector\n",
    "\n",
    "mydb = mysql.connector.connect(\n",
    "    host = \"localhost\",\n",
    "    user = \"root\",\n",
    "    password = \"Mysql@10\",\n",
    "    database = \"trial_course\"\n",
    ")\n",
    "\n",
    "mycursor = mydb.cursor()\n",
    "insert = \"INSERT INTO table_2 VALUES (%s,%s,%s)\"\n",
    "values = [(1, \"player1@gmail.com\", \"A\"),\n",
    "         (2, \"player2@gmail.com\", \"B\"),\n",
    "          (3, \"player3@gmail.com\", \"C\"),\n",
    "          (4, \"player4@mail.com\", \"A\"),\n",
    "          (5, \"player5@gmail.com\", \"B\"),\n",
    "          (6, \"player6@gmail.com\", \"C\"),\n",
    "          (8, \"player8@gmail.com\", \"A\"),\n",
    "          (9, \"player9@gmail.com\", \"B\"),\n",
    "          (10, \"player10@gmail.com\", \"C\")\n",
    "         ]\n",
    "mycursor.executemany(insert, values)\n",
    "mydb.commit()\n",
    "mycursor.fetchall()"
   ]
  },
  {
   "cell_type": "code",
   "execution_count": 56,
   "id": "7ae751b7",
   "metadata": {},
   "outputs": [
    {
     "data": {
      "text/plain": [
       "[(1, 'player1@gmail.com', 'A'),\n",
       " (2, 'player2@gmail.com', 'B'),\n",
       " (3, 'player3@gmail.com', 'C'),\n",
       " (4, 'player4@mail.com', 'A'),\n",
       " (5, 'player5@gmail.com', 'B'),\n",
       " (6, 'player6@gmail.com', 'C'),\n",
       " (8, 'player8@gmail.com', 'A'),\n",
       " (9, 'player9@gmail.com', 'B'),\n",
       " (10, 'player10@gmail.com', 'C')]"
      ]
     },
     "execution_count": 56,
     "metadata": {},
     "output_type": "execute_result"
    }
   ],
   "source": [
    "import mysql.connector\n",
    "\n",
    "mydb = mysql.connector.connect(\n",
    "    host = \"localhost\",\n",
    "    user = \"root\",\n",
    "    password = \"Mysql@10\",\n",
    "    database = \"trial_course\"\n",
    ")\n",
    "\n",
    "mycursor = mydb.cursor()\n",
    "mycursor.execute(\"SELECT * FROM table_2\")\n",
    "mycursor.fetchall()"
   ]
  },
  {
   "cell_type": "code",
   "execution_count": 57,
   "id": "a2f34de3",
   "metadata": {},
   "outputs": [
    {
     "data": {
      "text/plain": [
       "[(1, 'Kelvin', 'Miami Street', 1, 'player1@gmail.com', 'A'),\n",
       " (2, 'Locky', 'London Street', 2, 'player2@gmail.com', 'B'),\n",
       " (3, 'Bram', 'Manchester', 3, 'player3@gmail.com', 'C'),\n",
       " (4, 'Smith', 'Poland', 4, 'player4@mail.com', 'A'),\n",
       " (5, 'Angel', 'Wilhouse', 5, 'player5@gmail.com', 'B'),\n",
       " (6, 'Mitramen', 'Candys', 6, 'player6@gmail.com', 'C'),\n",
       " (8, 'Schol', 'Liberty', 8, 'player8@gmail.com', 'A'),\n",
       " (9, 'Nick', 'Miramar', 9, 'player9@gmail.com', 'B'),\n",
       " (10, 'Powl', 'Erangel', 10, 'player10@gmail.com', 'C')]"
      ]
     },
     "execution_count": 57,
     "metadata": {},
     "output_type": "execute_result"
    }
   ],
   "source": [
    "import mysql.connector\n",
    "\n",
    "mydb = mysql.connector.connect(\n",
    "    host = \"localhost\",\n",
    "    user = \"root\",\n",
    "    password = \"Mysql@10\",\n",
    "    database = \"trial_course\"\n",
    ")\n",
    "\n",
    "mycursor = mydb.cursor()\n",
    "mycursor.execute(\"SELECT * FROM table_1 t1 JOIN table_2 t2 ON t1.id = t2.id\")\n",
    "mycursor.fetchall()"
   ]
  },
  {
   "cell_type": "markdown",
   "id": "35215755",
   "metadata": {},
   "source": [
    "## Pandas"
   ]
  },
  {
   "cell_type": "markdown",
   "id": "b9bfd972",
   "metadata": {},
   "source": [
    "Pandas merupakan salah satu library pada python yang digunakan untuk bekerja dengan data sets"
   ]
  },
  {
   "cell_type": "markdown",
   "id": "605b01ad",
   "metadata": {},
   "source": [
    "## Data Frame"
   ]
  },
  {
   "cell_type": "markdown",
   "id": "e63fd98d",
   "metadata": {},
   "source": [
    "Merupakan sebuah data set di library pandas yang biasanya berbentuk 2d array table, apabila series seperti kolom maka DataFrame seperti keseluruhan tabel"
   ]
  },
  {
   "cell_type": "code",
   "execution_count": 1,
   "id": "192dad59",
   "metadata": {},
   "outputs": [
    {
     "data": {
      "text/plain": [
       "[]"
      ]
     },
     "execution_count": 1,
     "metadata": {},
     "output_type": "execute_result"
    }
   ],
   "source": [
    "import mysql.connector\n",
    "\n",
    "mydb = mysql.connector.connect(\n",
    "    host = \"localhost\",\n",
    "    user = \"root\",\n",
    "    password = \"Mysql@10\",\n",
    ")\n",
    "\n",
    "mycursor = mydb.cursor()\n",
    "mycursor.execute(\"CREATE DATABASE chelsea\")\n",
    "mycursor.fetchall()"
   ]
  },
  {
   "cell_type": "code",
   "execution_count": 2,
   "id": "970e7386",
   "metadata": {},
   "outputs": [
    {
     "data": {
      "text/plain": [
       "[('chelsea',),\n",
       " ('dataku',),\n",
       " ('information_schema',),\n",
       " ('mysql',),\n",
       " ('performance_schema',),\n",
       " ('sys',),\n",
       " ('trial_course',)]"
      ]
     },
     "execution_count": 2,
     "metadata": {},
     "output_type": "execute_result"
    }
   ],
   "source": [
    "import mysql.connector\n",
    "\n",
    "mydb = mysql.connector.connect(\n",
    "    host = \"localhost\",\n",
    "    user = \"root\",\n",
    "    password = \"Mysql@10\",\n",
    ")\n",
    "\n",
    "mycursor = mydb.cursor()\n",
    "mycursor.execute(\"SHOW DATABASES\")\n",
    "mycursor.fetchall()"
   ]
  },
  {
   "cell_type": "code",
   "execution_count": 3,
   "id": "06cf76ff",
   "metadata": {},
   "outputs": [
    {
     "data": {
      "text/plain": [
       "[]"
      ]
     },
     "execution_count": 3,
     "metadata": {},
     "output_type": "execute_result"
    }
   ],
   "source": [
    "import mysql.connector\n",
    "\n",
    "mydb = mysql.connector.connect(\n",
    "    host = \"localhost\",\n",
    "    user = \"root\",\n",
    "    password = \"Mysql@10\",\n",
    "    database = \"chelsea\"\n",
    ")\n",
    "\n",
    "mycursor = mydb.cursor()\n",
    "mycursor.execute(\"CREATE TABLE profile(id INT, nama VARCHAR(255), tinggi INT, kaki VARCHAR(255), asal_klub VARCHAR(255), harga INT)\")\n",
    "mycursor.fetchall()"
   ]
  },
  {
   "cell_type": "code",
   "execution_count": 4,
   "id": "b7f759d9",
   "metadata": {},
   "outputs": [
    {
     "data": {
      "text/plain": [
       "[('profile',)]"
      ]
     },
     "execution_count": 4,
     "metadata": {},
     "output_type": "execute_result"
    }
   ],
   "source": [
    "import mysql.connector\n",
    "\n",
    "mydb = mysql.connector.connect(\n",
    "    host = \"localhost\",\n",
    "    user = \"root\",\n",
    "    password = \"Mysql@10\",\n",
    "    database = \"chelsea\"\n",
    ")\n",
    "\n",
    "mycursor = mydb.cursor()\n",
    "mycursor.execute(\"SHOW TABLES\")\n",
    "mycursor.fetchall()"
   ]
  },
  {
   "cell_type": "code",
   "execution_count": 4,
   "id": "40a02a86",
   "metadata": {},
   "outputs": [
    {
     "name": "stdout",
     "output_type": "stream",
     "text": [
      "26  record inserted\n"
     ]
    }
   ],
   "source": [
    "import mysql.connector\n",
    "\n",
    "mydb = mysql.connector.connect(\n",
    "    host = \"localhost\",\n",
    "    user = \"root\",\n",
    "    password = \"Mysql@10\",\n",
    "    database = \"chelsea\"\n",
    ")\n",
    "\n",
    "mycursor = mydb.cursor()\n",
    "insert = \"INSERT INTO profile VALUES (%s, %s, %s, %s, %s, %s)\"\n",
    "values = [(16, \"Mendy\", 199, \"Kanan\", \"Rennais FC\", 521),\n",
    "          (1, \"Arrizabalaga\", 186, \"Kanan\", \"Ath Bilbao\", 226),\n",
    "(13, \"Bettinelli\", 193, \"Kanan\", \"Fulham FC\", 43),\n",
    "(2, \"Rudiger\", 190, \"Kanan\", \"AS Roma\", 608),\n",
    "(4, \"Christensen\", 188, \"Kanan\", \"Chelsea FC\", 608),\n",
    "(14, \"Chalobah\", 190, \"Kanan\", \"Chelsea FC\", 174),\n",
    "(31, \"Sarr\", 182, \"Kiri\", \"Nice\", 130),\n",
    "(6, \"Silva\", 181, \"Kanan\", \"PSG\", 52),\n",
    "(21, \"Chilwell\", 180, \"Kiri\", \"Leichester\", 661),\n",
    "(3, \"Alonso\", 189, \"Kiri\", \"Fiorentina\", 261),\n",
    "(24, \"James\", 180, \"Kanan\", \"Chelsea FC\", 782),\n",
    "(28, \"Azpilicueta\", 178, \"Kanan\", \"Marseille\", 226),\n",
    "(7, \"Kante\", 168, \"Kanan\", \"Leichester\", 956),\n",
    "(5, \"Jorginho\", 180, \"Kanan\", \"Napoli\", 782),\n",
    "(8, \"Kovacic\", 176, \"Kanan\", \"Real Madrid\", 782),\n",
    "(17, \"Saul\", 184, \"Kiri\", \"Ath Madrid\", 695),\n",
    "(12, \"Loftus-Cheek\", 190, \"Kanan\", \"Chelsea FC\", 313),\n",
    "(18, \"Barkley\", 185, \"Kanan\", \"Everton\", 295),\n",
    "(32, \"Baker\", 182, \"Kanan\", \"Chelsea FC\", 61),\n",
    "(19, \"Mount\", 180, \"Kanan\", \"Chelsea FC\", 1304),\n",
    "(29, \"Havert\", 189, \"Kiri\", \"Leverkusen\", 1217),\n",
    "(22, \"Ziyech\", 181, \"Kiri\", \"Ajax\", 661),\n",
    "(10, \"Pulisic\", 177, \"Kanan\", \"Dortmund\", 869),\n",
    "(20, \"Odoi\", 177, \"Kanan\", \"Chelsea FC\", 556),\n",
    "(9, \"Lukaku\", 191, \"Kiri\", \"Inter Milan\", 1738),\n",
    "(11, \"Werner\", 180, \"Kanan\", \"RB Leibsig\", 956)\n",
    "    \n",
    "]\n",
    "mycursor.executemany(insert, values)\n",
    "mydb.commit()\n",
    "print(mycursor.rowcount, \" record inserted\")"
   ]
  },
  {
   "cell_type": "code",
   "execution_count": 5,
   "id": "561ff3dd",
   "metadata": {},
   "outputs": [
    {
     "data": {
      "text/plain": [
       "[(16, 'Mendy', 199, 'Kanan', 'Rennais FC', 521),\n",
       " (1, 'Arrizabalaga', 186, 'Kanan', 'Ath Bilbao', 226),\n",
       " (13, 'Bettinelli', 193, 'Kanan', 'Fulham FC', 43),\n",
       " (2, 'Rudiger', 190, 'Kanan', 'AS Roma', 608),\n",
       " (4, 'Christensen', 188, 'Kanan', 'Chelsea FC', 608),\n",
       " (14, 'Chalobah', 190, 'Kanan', 'Chelsea FC', 174),\n",
       " (31, 'Sarr', 182, 'Kiri', 'Nice', 130),\n",
       " (6, 'Silva', 181, 'Kanan', 'PSG', 52),\n",
       " (21, 'Chilwell', 180, 'Kiri', 'Leichester', 661),\n",
       " (3, 'Alonso', 189, 'Kiri', 'Fiorentina', 261),\n",
       " (24, 'James', 180, 'Kanan', 'Chelsea FC', 782),\n",
       " (28, 'Azpilicueta', 178, 'Kanan', 'Marseille', 226),\n",
       " (7, 'Kante', 168, 'Kanan', 'Leichester', 956),\n",
       " (5, 'Jorginho', 180, 'Kanan', 'Napoli', 782),\n",
       " (8, 'Kovacic', 176, 'Kanan', 'Real Madrid', 782),\n",
       " (17, 'Saul', 184, 'Kiri', 'Ath Madrid', 695),\n",
       " (12, 'Loftus-Cheek', 190, 'Kanan', 'Chelsea FC', 313),\n",
       " (18, 'Barkley', 185, 'Kanan', 'Everton', 295),\n",
       " (32, 'Baker', 182, 'Kanan', 'Chelsea FC', 61),\n",
       " (19, 'Mount', 180, 'Kanan', 'Chelsea FC', 1304),\n",
       " (29, 'Havert', 189, 'Kiri', 'Leverkusen', 1217),\n",
       " (22, 'Ziyech', 181, 'Kiri', 'Ajax', 661),\n",
       " (10, 'Pulisic', 177, 'Kanan', 'Dortmund', 869),\n",
       " (20, 'Odoi', 177, 'Kanan', 'Chelsea FC', 556),\n",
       " (9, 'Lukaku', 191, 'Kiri', 'Inter Milan', 1738),\n",
       " (11, 'Werner', 180, 'Kanan', 'RB Leibsig', 956)]"
      ]
     },
     "execution_count": 5,
     "metadata": {},
     "output_type": "execute_result"
    }
   ],
   "source": [
    "import mysql.connector\n",
    "\n",
    "mydb = mysql.connector.connect(\n",
    "    host = \"localhost\",\n",
    "    user = \"root\",\n",
    "    password = \"Mysql@10\",\n",
    "    database = \"chelsea\"\n",
    ")\n",
    "\n",
    "mycursor = mydb.cursor()\n",
    "mycursor.execute(\"SELECT * FROM profile\")\n",
    "mycursor.fetchall()"
   ]
  },
  {
   "cell_type": "code",
   "execution_count": 7,
   "id": "8a6a6f41",
   "metadata": {},
   "outputs": [],
   "source": [
    "import mysql.connector\n",
    "import pandas as pd\n",
    "\n",
    "mydb = mysql.connector.connect(\n",
    "    host = \"localhost\",\n",
    "    user = \"root\",\n",
    "    password = \"Mysql@10\",\n",
    "    database = \"chelsea\"\n",
    ")\n",
    "\n",
    "mycursor = mydb.cursor()\n",
    "mycursor.execute(\"SELECT * FROM profile\")\n",
    "myresult = mycursor.fetchall()\n",
    "df = pd.DataFrame(myresult, columns = mycursor.column_names)"
   ]
  },
  {
   "cell_type": "code",
   "execution_count": 8,
   "id": "8f7b8e8d",
   "metadata": {},
   "outputs": [
    {
     "data": {
      "text/html": [
       "<div>\n",
       "<style scoped>\n",
       "    .dataframe tbody tr th:only-of-type {\n",
       "        vertical-align: middle;\n",
       "    }\n",
       "\n",
       "    .dataframe tbody tr th {\n",
       "        vertical-align: top;\n",
       "    }\n",
       "\n",
       "    .dataframe thead th {\n",
       "        text-align: right;\n",
       "    }\n",
       "</style>\n",
       "<table border=\"1\" class=\"dataframe\">\n",
       "  <thead>\n",
       "    <tr style=\"text-align: right;\">\n",
       "      <th></th>\n",
       "      <th>id</th>\n",
       "      <th>nama</th>\n",
       "      <th>tinggi</th>\n",
       "      <th>kaki</th>\n",
       "      <th>asal_klub</th>\n",
       "      <th>harga</th>\n",
       "    </tr>\n",
       "  </thead>\n",
       "  <tbody>\n",
       "    <tr>\n",
       "      <th>0</th>\n",
       "      <td>16</td>\n",
       "      <td>Mendy</td>\n",
       "      <td>199</td>\n",
       "      <td>Kanan</td>\n",
       "      <td>Rennais FC</td>\n",
       "      <td>521</td>\n",
       "    </tr>\n",
       "    <tr>\n",
       "      <th>1</th>\n",
       "      <td>1</td>\n",
       "      <td>Arrizabalaga</td>\n",
       "      <td>186</td>\n",
       "      <td>Kanan</td>\n",
       "      <td>Ath Bilbao</td>\n",
       "      <td>226</td>\n",
       "    </tr>\n",
       "    <tr>\n",
       "      <th>2</th>\n",
       "      <td>13</td>\n",
       "      <td>Bettinelli</td>\n",
       "      <td>193</td>\n",
       "      <td>Kanan</td>\n",
       "      <td>Fulham FC</td>\n",
       "      <td>43</td>\n",
       "    </tr>\n",
       "    <tr>\n",
       "      <th>3</th>\n",
       "      <td>2</td>\n",
       "      <td>Rudiger</td>\n",
       "      <td>190</td>\n",
       "      <td>Kanan</td>\n",
       "      <td>AS Roma</td>\n",
       "      <td>608</td>\n",
       "    </tr>\n",
       "    <tr>\n",
       "      <th>4</th>\n",
       "      <td>4</td>\n",
       "      <td>Christensen</td>\n",
       "      <td>188</td>\n",
       "      <td>Kanan</td>\n",
       "      <td>Chelsea FC</td>\n",
       "      <td>608</td>\n",
       "    </tr>\n",
       "  </tbody>\n",
       "</table>\n",
       "</div>"
      ],
      "text/plain": [
       "   id          nama  tinggi   kaki   asal_klub  harga\n",
       "0  16         Mendy     199  Kanan  Rennais FC    521\n",
       "1   1  Arrizabalaga     186  Kanan  Ath Bilbao    226\n",
       "2  13    Bettinelli     193  Kanan   Fulham FC     43\n",
       "3   2       Rudiger     190  Kanan     AS Roma    608\n",
       "4   4   Christensen     188  Kanan  Chelsea FC    608"
      ]
     },
     "execution_count": 8,
     "metadata": {},
     "output_type": "execute_result"
    }
   ],
   "source": [
    "df.head()"
   ]
  },
  {
   "cell_type": "code",
   "execution_count": 10,
   "id": "c0172080",
   "metadata": {},
   "outputs": [
    {
     "data": {
      "text/html": [
       "<div>\n",
       "<style scoped>\n",
       "    .dataframe tbody tr th:only-of-type {\n",
       "        vertical-align: middle;\n",
       "    }\n",
       "\n",
       "    .dataframe tbody tr th {\n",
       "        vertical-align: top;\n",
       "    }\n",
       "\n",
       "    .dataframe thead th {\n",
       "        text-align: right;\n",
       "    }\n",
       "</style>\n",
       "<table border=\"1\" class=\"dataframe\">\n",
       "  <thead>\n",
       "    <tr style=\"text-align: right;\">\n",
       "      <th></th>\n",
       "      <th>id</th>\n",
       "      <th>nama</th>\n",
       "      <th>tinggi</th>\n",
       "      <th>kaki</th>\n",
       "      <th>asal_klub</th>\n",
       "      <th>harga</th>\n",
       "    </tr>\n",
       "  </thead>\n",
       "  <tbody>\n",
       "    <tr>\n",
       "      <th>21</th>\n",
       "      <td>22</td>\n",
       "      <td>Ziyech</td>\n",
       "      <td>181</td>\n",
       "      <td>Kiri</td>\n",
       "      <td>Ajax</td>\n",
       "      <td>661</td>\n",
       "    </tr>\n",
       "    <tr>\n",
       "      <th>22</th>\n",
       "      <td>10</td>\n",
       "      <td>Pulisic</td>\n",
       "      <td>177</td>\n",
       "      <td>Kanan</td>\n",
       "      <td>Dortmund</td>\n",
       "      <td>869</td>\n",
       "    </tr>\n",
       "    <tr>\n",
       "      <th>23</th>\n",
       "      <td>20</td>\n",
       "      <td>Odoi</td>\n",
       "      <td>177</td>\n",
       "      <td>Kanan</td>\n",
       "      <td>Chelsea FC</td>\n",
       "      <td>556</td>\n",
       "    </tr>\n",
       "    <tr>\n",
       "      <th>24</th>\n",
       "      <td>9</td>\n",
       "      <td>Lukaku</td>\n",
       "      <td>191</td>\n",
       "      <td>Kiri</td>\n",
       "      <td>Inter Milan</td>\n",
       "      <td>1738</td>\n",
       "    </tr>\n",
       "    <tr>\n",
       "      <th>25</th>\n",
       "      <td>11</td>\n",
       "      <td>Werner</td>\n",
       "      <td>180</td>\n",
       "      <td>Kanan</td>\n",
       "      <td>RB Leibsig</td>\n",
       "      <td>956</td>\n",
       "    </tr>\n",
       "  </tbody>\n",
       "</table>\n",
       "</div>"
      ],
      "text/plain": [
       "    id     nama  tinggi   kaki    asal_klub  harga\n",
       "21  22   Ziyech     181   Kiri         Ajax    661\n",
       "22  10  Pulisic     177  Kanan     Dortmund    869\n",
       "23  20     Odoi     177  Kanan   Chelsea FC    556\n",
       "24   9   Lukaku     191   Kiri  Inter Milan   1738\n",
       "25  11   Werner     180  Kanan   RB Leibsig    956"
      ]
     },
     "execution_count": 10,
     "metadata": {},
     "output_type": "execute_result"
    }
   ],
   "source": [
    "df.tail()"
   ]
  },
  {
   "cell_type": "markdown",
   "id": "84eb9ca1",
   "metadata": {},
   "source": [
    "## MATPLOTLIB"
   ]
  },
  {
   "cell_type": "markdown",
   "id": "c57f075f",
   "metadata": {},
   "source": [
    "Matplotlib merpakan slah satu library di pythom yang digunakan untuk memvisualisasikan low level graph"
   ]
  },
  {
   "cell_type": "markdown",
   "id": "5a9f25a8",
   "metadata": {},
   "source": [
    "## PLOT"
   ]
  },
  {
   "cell_type": "markdown",
   "id": "73a8db6d",
   "metadata": {},
   "source": [
    "Merupakan function yang digunakan untuk membuat drae point(x,y) pada diagram\n",
    "\n",
    "Fungsi ini menerima dua parameter, parameter pertama merupakan sebuah array yang menjadi titik x point, dan parameter keduamerupakan sebuah array yang menjadi titik y point"
   ]
  },
  {
   "cell_type": "code",
   "execution_count": 23,
   "id": "92cb8da9",
   "metadata": {},
   "outputs": [
    {
     "data": {
      "image/png": "[encoded data removed]",
      "text/plain": [
       "<Figure size 1440x720 with 1 Axes>"
      ]
     },
     "metadata": {
      "needs_background": "light"
     },
     "output_type": "display_data"
    }
   ],
   "source": [
    "import mysql.connector\n",
    "import pandas as pd\n",
    "import matplotlib.pyplot as plt\n",
    "\n",
    "mydb = mysql.connector.connect(\n",
    "    host = \"localhost\",\n",
    "    user = \"root\",\n",
    "    password = \"Mysql@10\",\n",
    "    database = \"chelsea\"\n",
    ")\n",
    "\n",
    "mycursor = mydb.cursor()\n",
    "mycursor.execute(\"SELECT nama, harga FROM profile\")\n",
    "myresult = mycursor.fetchall()\n",
    "df1 = pd.DataFrame(myresult, columns = mycursor.column_names)\n",
    "\n",
    "plt.figure(figsize=(20,10))\n",
    "plt.plot(df1['nama'],df1['harga'], marker='o')\n",
    "plt.title(\"Transfermarket price Chelsea Squad\")\n",
    "plt.show()"
   ]
  },
  {
   "cell_type": "markdown",
   "id": "f36cf75e",
   "metadata": {},
   "source": [
    "## BARS"
   ]
  },
  {
   "cell_type": "raw",
   "id": "29ed7e2f",
   "metadata": {},
   "source": [
    "Merupakan salah satu jenis grafik berbentuk bar atau batang"
   ]
  },
  {
   "cell_type": "code",
   "execution_count": 24,
   "id": "6fe228de",
   "metadata": {},
   "outputs": [
    {
     "data": {
      "image/png": "[encoded data removed]",
      "text/plain": [
       "<Figure size 1440x720 with 1 Axes>"
      ]
     },
     "metadata": {
      "needs_background": "light"
     },
     "output_type": "display_data"
    }
   ],
   "source": [
    "import mysql.connector\n",
    "import pandas as pd\n",
    "import matplotlib.pyplot as plt\n",
    "\n",
    "mydb = mysql.connector.connect(\n",
    "    host = \"localhost\",\n",
    "    user = \"root\",\n",
    "    password = \"Mysql@10\",\n",
    "    database = \"chelsea\"\n",
    ")\n",
    "\n",
    "mycursor = mydb.cursor()\n",
    "mycursor.execute(\"SELECT nama, harga FROM profile WHERE harga > 750\")\n",
    "myresult = mycursor.fetchall()\n",
    "df2 = pd.DataFrame(myresult, columns = mycursor.column_names)\n",
    "\n",
    "plt.figure(figsize=(20,10))\n",
    "plt.bar(df2['nama'],df2['harga'])\n",
    "plt.title(\"Transfermarket price Chelsea Squad\")\n",
    "plt.show()"
   ]
  },
  {
   "cell_type": "code",
   "execution_count": 27,
   "id": "b67d541c",
   "metadata": {},
   "outputs": [
    {
     "data": {
      "image/png": "[encoded data removed]",
      "text/plain": [
       "<Figure size 1440x360 with 1 Axes>"
      ]
     },
     "metadata": {
      "needs_background": "light"
     },
     "output_type": "display_data"
    }
   ],
   "source": [
    "import mysql.connector\n",
    "import pandas as pd\n",
    "import matplotlib.pyplot as plt\n",
    "\n",
    "mydb = mysql.connector.connect(\n",
    "    host = \"localhost\",\n",
    "    user = \"root\",\n",
    "    password = \"Mysql@10\",\n",
    "    database = \"chelsea\"\n",
    ")\n",
    "\n",
    "mycursor = mydb.cursor()\n",
    "mycursor.execute(\"SELECT nama, harga FROM profile WHERE harga > 750\")\n",
    "myresult = mycursor.fetchall()\n",
    "df2 = pd.DataFrame(myresult, columns = mycursor.column_names)\n",
    "\n",
    "plt.figure(figsize=(20,5))\n",
    "plt.barh(df2['nama'],df2['harga'])\n",
    "plt.title(\"Transfermarket price Chelsea Squad\")\n",
    "plt.show()"
   ]
  },
  {
   "cell_type": "markdown",
   "id": "864af460",
   "metadata": {},
   "source": [
    "## SCATTER"
   ]
  },
  {
   "cell_type": "markdown",
   "id": "922858bc",
   "metadata": {},
   "source": [
    "Merupakan function yang memberikan sebuah dot atau titik pada setiap nilai yang ada. Function ini membutuhkan dua buah array yang memiliki panjang yang sama, satu array untuk menunjukan titik x dan satu lagi menunjukkan titik y"
   ]
  },
  {
   "cell_type": "code",
   "execution_count": 33,
   "id": "95c32315",
   "metadata": {},
   "outputs": [
    {
     "data": {
      "image/png": "[encoded data removed]",
      "text/plain": [
       "<Figure size 1440x360 with 1 Axes>"
      ]
     },
     "metadata": {
      "needs_background": "light"
     },
     "output_type": "display_data"
    }
   ],
   "source": [
    "import mysql.connector\n",
    "import pandas as pd\n",
    "import matplotlib.pyplot as plt\n",
    "\n",
    "mydb = mysql.connector.connect(\n",
    "    host = \"localhost\",\n",
    "    user = \"root\",\n",
    "    password = \"Mysql@10\",\n",
    "    database = \"chelsea\"\n",
    ")\n",
    "\n",
    "mycursor = mydb.cursor()\n",
    "mycursor.execute(\"SELECT nama, harga FROM profile WHERE harga > 500 AND nama LIKE '%a%'\")\n",
    "myresult = mycursor.fetchall()\n",
    "df3 = pd.DataFrame(myresult, columns = mycursor.column_names)\n",
    "\n",
    "plt.figure(figsize=(20,5))\n",
    "plt.scatter(df3['nama'],df3['harga'])\n",
    "plt.title(\"Transfermarket price Chelsea Squad\")\n",
    "plt.show()"
   ]
  },
  {
   "cell_type": "code",
   "execution_count": null,
   "id": "d1f0ed31",
   "metadata": {},
   "outputs": [],
   "source": []
  },
  {
   "cell_type": "code",
   "execution_count": null,
   "id": "c087dd1b",
   "metadata": {},
   "outputs": [],
   "source": []
  }
 ],
 "metadata": {
  "kernelspec": {
   "display_name": "Python 3 (ipykernel)",
   "language": "python",
   "name": "python3"
  },
  "language_info": {
   "codemirror_mode": {
    "name": "ipython",
    "version": 3
   },
   "file_extension": ".py",
   "mimetype": "text/x-python",
   "name": "python",
   "nbconvert_exporter": "python",
   "pygments_lexer": "ipython3",
   "version": "3.9.0"
  }
 },
 "nbformat": 4,
 "nbformat_minor": 5
}
